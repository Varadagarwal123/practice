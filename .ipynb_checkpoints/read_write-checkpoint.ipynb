{
 "cells": [
  {
   "cell_type": "code",
   "execution_count": 4,
   "id": "3e32b41e",
   "metadata": {},
   "outputs": [],
   "source": [
    "read_database_from_file=12\n",
    "def read_database_from_file():\n",
    "    database = {}\n",
    "    with open(\"student_database.txt\", 'r') as file:\n",
    "            file_content = file.read()\n",
    "    if file_content:\n",
    "            database = eval(file_content)  \n",
    "    return database\n",
    "def save_database_to_file(database):\n",
    "    with open('student_database.txt', 'w') as file:\n",
    "        file.write(str(database))\n",
    "def add(a,b):\n",
    "    return a+b        "
   ]
  },
  {
   "cell_type": "code",
   "execution_count": null,
   "id": "e478c462",
   "metadata": {},
   "outputs": [],
   "source": []
  }
 ],
 "metadata": {
  "kernelspec": {
   "display_name": "Python 3 (ipykernel)",
   "language": "python",
   "name": "python3"
  },
  "language_info": {
   "codemirror_mode": {
    "name": "ipython",
    "version": 3
   },
   "file_extension": ".py",
   "mimetype": "text/x-python",
   "name": "python",
   "nbconvert_exporter": "python",
   "pygments_lexer": "ipython3",
   "version": "3.11.3"
  }
 },
 "nbformat": 4,
 "nbformat_minor": 5
}
